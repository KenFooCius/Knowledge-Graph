{
 "cells": [
  {
   "cell_type": "code",
   "execution_count": 38,
   "metadata": {},
   "outputs": [],
   "source": [
    "def read_data():\n",
    "    with open('Health_IQ_Input_for_Classifier_2020-12-29.JSON') as project_file:\n",
    "        data = json.load(project_file)\n",
    "    #data = pd.DataFrame(data.values())\n",
    "    data['1']['age']=10\n",
    "    return data['1']\n",
    "\n"
   ]
  },
  {
   "cell_type": "code",
   "execution_count": 39,
   "metadata": {},
   "outputs": [
    {
     "data": {
      "text/plain": [
       "{'age': 10,\n",
       " 'allSymptoms': ['Runny Nose', 'Shortness of Breath'],\n",
       " 'bloodType': 'A-',\n",
       " 'ethnicity': 'Other',\n",
       " 'gender': 'Male',\n",
       " 'heightFeet': 3,\n",
       " 'heightInches': 4,\n",
       " 'listAllergies': ['None', 'None'],\n",
       " 'traveledPast14Days': 'Yes',\n",
       " 'weightLb': 292,\n",
       " 'out': 'CovidPositive'}"
      ]
     },
     "execution_count": 39,
     "metadata": {},
     "output_type": "execute_result"
    }
   ],
   "source": [
    "read_data()"
   ]
  },
  {
   "cell_type": "code",
   "execution_count": 94,
   "metadata": {},
   "outputs": [],
   "source": [
    "def read_data():\n",
    "    data = {\n",
    "    \"age\": \"-21\",\n",
    "    \"allSymptoms\": [\"-fevere\", \"Coughings\",\"Loos of Tast\"],\n",
    "    \"bloodType\": \"A-a\",\n",
    "    \"ethnicity\": \"+Caucalksian\",\n",
    "    \"gender\": \"Males\",\n",
    "    \"heightFeet\": \"5o\",\n",
    "    \"heightInches\": \"p3\",\n",
    "    \"listAllergies\": [\"kDrugsQ\", \"cat\"],\n",
    "    \"traveledPast14Days\": \"yesA\",\n",
    "    \"weightLb\": \"12+\"\n",
    "}\n",
    "\n",
    "    age = range(0,125)\n",
    "    best_guess = process.extractOne(data['age'], age)\n",
    "    if best_guess[1] > 80:            \n",
    "        data['age'] = best_guess[0]\n",
    "    else:\n",
    "        data['age'] = ''\n",
    "            \n",
    "    lis1=[]\n",
    "    for x in data['allSymptoms']:\n",
    "        allSymptoms = ['', 'Sore Throat', 'Sleepiness', 'Shortness of Breath', 'Runny Nose', 'Headache',\n",
    "                                'Fever', 'Fatigue', 'Diarrhea', 'Coughing', 'Congestion', 'Chills', 'Body Aches',\n",
    "                                'Loss of Smell', 'Loss of Taste']\n",
    "        best_guess = process.extractOne(x, allSymptoms)\n",
    "        if best_guess[1] > 80:            \n",
    "            lis1.append(best_guess[0])\n",
    "        else:\n",
    "            lis1.append(\"\")\n",
    "            \n",
    "    bloodType = ['', 'O-', 'O+', 'B-', 'B+', 'AB-', 'AB+', 'A-', 'A+']\n",
    "    best_guess = process.extractOne(data['bloodType'], bloodType)\n",
    "    if best_guess[1] > 80:            \n",
    "        data['bloodType'] = best_guess[0]\n",
    "    else:\n",
    "        data['bloodType'] = ''\n",
    "        \n",
    "    ethnicity = ['', 'Other', 'Latino', 'Caucasian', 'Asian/Pacific Islander', 'African']   \n",
    "    best_guess = process.extractOne(data['ethnicity'], ethnicity)\n",
    "    if best_guess[1] > 80:            \n",
    "        data['ethnicity'] = best_guess[0]\n",
    "    else:\n",
    "        data['ethnicity'] = ''\n",
    "            \n",
    "    gender = ['', 'Female', 'Male']   \n",
    "    best_guess = process.extractOne(data['gender'], gender)\n",
    "    if best_guess[1] > 80:            \n",
    "        data['gender'] = best_guess[0]\n",
    "    else:\n",
    "        data['gender'] = ''\n",
    "        \n",
    "    heightFeet = range(0,11)   \n",
    "    best_guess = process.extractOne(data['heightFeet'], heightFeet)\n",
    "    if best_guess[1] > 80:            \n",
    "        data['heightFeet'] = best_guess[0]\n",
    "    else:\n",
    "        data['heightFeet'] = ''\n",
    "        \n",
    "    heightInches = range(0,11)   \n",
    "    best_guess = process.extractOne(data['heightInches'], heightInches)\n",
    "    if best_guess[1] > 80:            \n",
    "        data['heightInches'] = best_guess[0]\n",
    "    else:\n",
    "        data['heightInches'] = ''\n",
    "    \n",
    "    lis2=[]\n",
    "    for x in data['listAllergies']:\n",
    "        listAllergies = ['', 'Pollen', 'Pet', 'Mold', 'Insect', 'Food', 'Drug']\n",
    "        best_guess = process.extractOne(x, listAllergies)\n",
    "        if best_guess[1] > 80:            \n",
    "            lis2.append(best_guess[0])\n",
    "        else:\n",
    "            lis2.append(\"\")\n",
    "            \n",
    "    traveledPast14Days = ['', 'No', 'Yes']  \n",
    "    best_guess = process.extractOne(data['traveledPast14Days'], traveledPast14Days)\n",
    "    if best_guess[1] > 80:            \n",
    "        data['traveledPast14Days'] = best_guess[0]\n",
    "    else:\n",
    "        data['traveledPast14Days'] = ''\n",
    "        \n",
    "    weightLb = range(0,1100)  \n",
    "    best_guess = process.extractOne(data['weightLb'], weightLb)\n",
    "    if best_guess[1] > 80:            \n",
    "        data['weightLb'] = best_guess[0]\n",
    "    else:\n",
    "        data['weightLb'] = ''\n",
    "\n",
    "    data['allSymptoms']=lis1\n",
    "    data['listAllergies']=lis2\n",
    "    return data"
   ]
  },
  {
   "cell_type": "code",
   "execution_count": 95,
   "metadata": {},
   "outputs": [
    {
     "data": {
      "text/plain": [
       "{'age': 21,\n",
       " 'allSymptoms': ['Fever', 'Coughing', 'Loss of Taste'],\n",
       " 'bloodType': 'A-',\n",
       " 'ethnicity': 'Caucasian',\n",
       " 'gender': 'Male',\n",
       " 'heightFeet': 5,\n",
       " 'heightInches': 3,\n",
       " 'listAllergies': ['Drug', ''],\n",
       " 'traveledPast14Days': 'Yes',\n",
       " 'weightLb': 12}"
      ]
     },
     "execution_count": 95,
     "metadata": {},
     "output_type": "execute_result"
    }
   ],
   "source": [
    "read_data()"
   ]
  },
  {
   "cell_type": "code",
   "execution_count": 45,
   "metadata": {},
   "outputs": [
    {
     "name": "stdout",
     "output_type": "stream",
     "text": [
      "['', 'Sore Throat', 'Sleepiness']\n"
     ]
    },
    {
     "name": "stderr",
     "output_type": "stream",
     "text": [
      "C:\\Users\\Ken\\anaconda3\\lib\\site-packages\\fuzzywuzzy\\fuzz.py:11: UserWarning: Using slow pure-python SequenceMatcher. Install python-Levenshtein to remove this warning\n",
      "  warnings.warn('Using slow pure-python SequenceMatcher. Install python-Levenshtein to remove this warning')\n"
     ]
    }
   ],
   "source": [
    "from fuzzywuzzy import fuzz\n",
    "from fuzzywuzzy import process\n",
    "import pandas as pd\n",
    "import numpy as np\n",
    "lis=[]\n",
    "for x in  ['fEVVEghghghR','SORE THROAT','SLHGHEEINESS']:\n",
    "    allSymptoms = ['', 'Sore Throat', 'Sleepiness', 'Shortness of Breath', 'Runny Nose', 'Headache',\n",
    "                            'Fever', 'Fatigue', 'Diarrhea', 'Coughing', 'Congestion', 'Chills', 'Body Aches',\n",
    "                            'Loss of Smell', 'Loss of Taste']\n",
    "    best_guess = process.extractOne(x, allSymptoms)\n",
    "    if best_guess[1] > 80:            \n",
    "        lis.append(best_guess[0])\n",
    "    else:\n",
    "        lis.append(\"\")\n",
    "print(lis)"
   ]
  },
  {
   "cell_type": "code",
   "execution_count": null,
   "metadata": {},
   "outputs": [],
   "source": []
  }
 ],
 "metadata": {
  "kernelspec": {
   "display_name": "Python 3",
   "language": "python",
   "name": "python3"
  },
  "language_info": {
   "codemirror_mode": {
    "name": "ipython",
    "version": 3
   },
   "file_extension": ".py",
   "mimetype": "text/x-python",
   "name": "python",
   "nbconvert_exporter": "python",
   "pygments_lexer": "ipython3",
   "version": "3.8.3"
  }
 },
 "nbformat": 4,
 "nbformat_minor": 4
}
